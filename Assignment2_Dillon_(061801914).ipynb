{
  "nbformat": 4,
  "nbformat_minor": 0,
  "metadata": {
    "colab": {
      "name": "Assignment2 - Dillon (061801914).ipynb",
      "provenance": [],
      "collapsed_sections": [],
      "include_colab_link": true
    },
    "kernelspec": {
      "name": "python3",
      "display_name": "Python 3"
    }
  },
  "cells": [
    {
      "cell_type": "markdown",
      "metadata": {
        "id": "view-in-github",
        "colab_type": "text"
      },
      "source": [
        "<a href=\"https://colab.research.google.com/github/NUG30/homework-2-dillonloh/blob/main/Assignment2_Dillon_(061801914).ipynb\" target=\"_parent\"><img src=\"https://colab.research.google.com/assets/colab-badge.svg\" alt=\"Open In Colab\"/></a>"
      ]
    },
    {
      "cell_type": "markdown",
      "metadata": {
        "id": "hwTPfD-_mGwe"
      },
      "source": [
        "# Homework 2: Naive Bayes Email Spam Filter\n",
        "\n",
        "In this homework, we will learn how to implement the Naive Bayes classifier in order to create a simple email spam filter. This spam filter will be trained by test_emails, which will be given by a vector of tuples (emails, spam/nospam). For each tuple the first entry is a string (\"email\"), and the second entry is 0 or 1, depending whether the email contains spam words."
      ]
    },
    {
      "cell_type": "code",
      "metadata": {
        "id": "LcYY9uEZ8NNA"
      },
      "source": [
        "dictionary = ['hello', 'students', 'please', 'learn', 'for', 'the', 'exam', 'buy', 'drugs', 'today', 'sun', 'is', 'shining', 'in', 'nagoya', 'lets', 'sell', 'how', 'are', 'you', 'today?', 'do', 'your', 'homework', 'want', 'free', 'solutions?', 'hey', 'always', 'ask', 'questions', 'if','have', 'any', 'math', 'not', 'good', 'submit', 'pay'] \n",
        "\n",
        "test_emails=[\n",
        "             [\"hello students, please learn for the exam\", 0],\n",
        "             [\"hello students, please buy drugs\", 1],    \n",
        "             [\"hello, today the sun is shining in nagoya\", 0],\n",
        "             [\"lets sell drugs in nagoya\", 1],\n",
        "             [\"today learn drugs\", 1],\n",
        "             [\"how are you today?\", 0],\n",
        "             [\"hello students, please do your homework\", 0],\n",
        "             [\"hello, do you want free homework solutions?\", 1],\n",
        "             [\"hey students, please always ask questions if you have any\", 0],\n",
        "             [\"math is not good\", 1],\n",
        "             [\"math is good\", 0],\n",
        "             [\"please submit your homework\", 0],\n",
        "             [\"please buy questions\", 1],\n",
        "             [\"please pay for the exam\", 1]          \n",
        "             ]\n",
        "\n"
      ],
      "execution_count": 3,
      "outputs": []
    },
    {
      "cell_type": "markdown",
      "metadata": {
        "id": "-7_jFoKsHlXZ"
      },
      "source": [
        "The feature space for our spam filter will be $\\mathcal{X}=\\{0,1\\}^d$, where $d$ denotes the number of words in the dictionary. For a feature (email) $x \\in \\mathcal{X}$ the entry $x_i$ for $i=1,\\dots,d$ is $1$ if the $i$-th word of the dictionary is contained in the email and $0$ otherwise.  "
      ]
    },
    {
      "cell_type": "markdown",
      "metadata": {
        "id": "ihFEvEcCHI6y"
      },
      "source": [
        "# **Exercise 1**\n",
        "Implement a function which creates a feature vector out of an email and a function which creates a training set out of test emails. \n",
        "\n",
        "You would need to figure out whether a sentence contains a word, and there are functions in Python that could determine whether a string contains another string. You can consult documentation (and Google) to find out."
      ]
    },
    {
      "cell_type": "code",
      "metadata": {
        "id": "YcrE1LTy8mjy"
      },
      "source": [
        "import numpy as np\n",
        "\n",
        "def email_to_feature(dict, email):\n",
        "    \"\"\"function to creates a feature vector based on input dict and email\"\"\"\n",
        "\n",
        "    feature_vector = np.zeros((len(dict), 1))\n",
        "\n",
        "    # Checks if dict substrings are contained in email string\n",
        "\n",
        "    for i in range(0, len(dict)):\n",
        "        if dict[i] in email:\n",
        "            feature_vector[i] = 1\n",
        "    \n",
        "    return feature_vector\n",
        "\n",
        "def emails_to_test_samples(dict, test_emails):\n",
        "    \"\"\"functions to create (feature, spam_label) test samples from dict and emails\"\"\"\n",
        "\n",
        "    test_samples = []\n",
        "\n",
        "    for test_email in test_emails:\n",
        "        sample = [email_to_feature(dict, test_email[0]), test_email[1]]\n",
        "        test_samples.append(sample)\n",
        "\n",
        "    return test_samples\n",
        "\n",
        "training_set = emails_to_test_samples(dictionary, test_emails)\n",
        "\n"
      ],
      "execution_count": 86,
      "outputs": []
    },
    {
      "cell_type": "markdown",
      "metadata": {
        "id": "DzUtdPFZ_1vR"
      },
      "source": [
        " **Recall from Lecture 6:**\n",
        "\n",
        "Given a training set  $\\mathcal{T} = \\left( (x^{(1)}, y^{(1)}) , \\dots, (x^{(n)}, y^{(n)})   \\right)$ we calculate for $i=1,\\dots,d$ the following numbers\n",
        "\\begin{align*}\n",
        "\\phi_{i\\mid y=1} &= \\frac{1+\\sum_{j=1}^n I(x^{(j)}_i = 1  \\,\\wedge \\, y^{(j)}=1 ) }{2+\\sum_{j=1}^n I(y^{(j)}=1)}\\,,\\\\\n",
        "\t\\phi_{i\\mid y=0} &= \\frac{1+\\sum_{j=1}^n I(x^{(j)}_i = 1  \\,\\wedge \\, y^{(j)}=0 )}{2+\\sum_{j=1}^n I(y^{(j)}=0)}\\,,\\\\\n",
        "\t\t\\phi_{y=1} &= \\frac{1+\\sum_{j=1}^n I(y^{(j)} = 1)}{2+n} \\,.\n",
        "\\end{align*}\n",
        "Here $I$ denoted the indicator function. We used the laplace smoothing (thats why we have the $1+$ and $2+$) in order to make sure that we will not assume probability $0$ for unknown words.\n",
        "\n",
        "Now assume we get a new feature (i.e. someone sends us an email) $x \\in \\{0,1\\}^d$. Then we can calculate for each word $i=1,\\dots,d$ the probabilities\n",
        "\\begin{align*}\n",
        "P(x_i = 1 \\mid y=1) &= \\phi_{i\\mid y=1}\\,,\\qquad &&P(x_i = 1 \\mid y=0) = \\phi_{i\\mid y=0} \\,,\\\\\n",
        "P(x_i = 0 \\mid y=1) &= 1- \\phi_{i\\mid y=1}\\,,\\qquad &&P(x_i = 0 \\mid y=0) = 1-\\phi_{i\\mid y=0} \\,. \\\\\n",
        "\\end{align*}\n",
        "\n",
        "By the Naive Bayes assumption we have for $x \\in \\{0,1\\}^d$\n",
        "\\begin{align*}\n",
        "P(x \\mid y)  = \\prod_{i=1}^d P(x_j \\mid y)\\,.\n",
        "\\end{align*}\n",
        "The probability of the new email being spam is then\n",
        "\\begin{align*}\n",
        "P(y=1 \\mid x) &= \\frac{ P(x \\mid y=1) P(y=1)}{P(x)}\\\\\n",
        "&= \\frac{\\prod_{i=1}^d P(x_i \\mid y = 1) \\cdot \\phi_{y=1}}{\\prod_{i=1}^d P(x_i \\mid y = 1) \\cdot \\phi_{y=1} + \\prod_{i=1}^d P(x_i \\mid y = 0) (1-\\phi_{y=1})}\\,.\n",
        "\\end{align*}\n"
      ]
    },
    {
      "cell_type": "markdown",
      "metadata": {
        "id": "3KdBdWJQINbe"
      },
      "source": [
        "# **Exercise 2:** \n",
        "Use the above explanation of the Naive Bayes Spam filter and implement a function which gives the probability of an email being spam given the trainings email above. \n"
      ]
    },
    {
      "cell_type": "code",
      "metadata": {
        "id": "8Ry9w9OtOFBi",
        "colab": {
          "base_uri": "https://localhost:8080/"
        },
        "outputId": "afdaa941-0e1e-4d91-99a7-13e8d591ec6d"
      },
      "source": [
        "def calculate_phi(training_set, spam_value, feature_index=None):\n",
        "    \"\"\"function for calculating phi(i=feature_index|y=spam_value)\"\"\"\n",
        "    \"\"\"leave feature_index argument blank if calculating phi(y)\"\"\"\n",
        "\n",
        "    numerator, denominator = 1, 2\n",
        "\n",
        "    # Calculating just phi(y) if feature_index is blank\n",
        "    if feature_index is None:\n",
        "        for sample in training_set:\n",
        "            if sample[1] == spam_value:\n",
        "                numerator = numerator + 1\n",
        "        denominator = denominator + len(training_set)\n",
        "\n",
        "        phi = numerator/denominator\n",
        "\n",
        "        print('phi(y={0}) = {1}'.format(spam_value, phi))\n",
        "        return phi\n",
        "\n",
        "    # Calculating phi(i|y) if feature_index == 0 or 1\n",
        "\n",
        "    else:\n",
        "        for sample in training_set:\n",
        "            if sample[1] == spam_value:\n",
        "                denominator = denominator  + 1\n",
        "            if sample[0][feature_index] == 1 and sample[1] == spam_value:\n",
        "                numerator = numerator + 1\n",
        "\n",
        "        phi = numerator/denominator\n",
        "\n",
        "        print('phi(i={0}|y={1}) = {2}'.format(feature_index, spam_value, phi))\n",
        "        return phi\n",
        "\n",
        "calculate_phi(training_set, 1, 33) #check probability 'any' is inside means spam\n",
        "\n",
        "\n",
        "def probability(training_set, x_value, spam_value, feature_index=None):\n",
        "    \"\"\"function for getting conditional probability P(xi=x_value|y=spam_value)\"\"\"\n",
        "\n",
        "    if x_value == 1:\n",
        "        return calculate_phi(training_set, spam_value,  feature_index)\n",
        "\n",
        "    elif x_value == 0:\n",
        "        return (1-calculate_phi(training_set, spam_value, feature_index))\n",
        "\n",
        "\n",
        "print(probability(training_set, 1, 1, 33))\n",
        "print(probability(training_set, 0, 1, 33))\n",
        "\n",
        "def spam_percentage(dictionary, training_set, email):\n",
        "    \"\"\"function for calculating the probability of an email being spam\"\"\"\n",
        "    \n",
        "    num_product = calculate_phi(training_set, 1)\n",
        "    denom_product_1 = calculate_phi(training_set, 1)\n",
        "    denom_product_2 = 1 - calculate_phi(training_set, 1)\n",
        "\n",
        "    email_feature_vector = email_to_feature(dictionary, email)\n",
        "    for i in range(0, len(email_feature_vector)):\n",
        "        if email_feature_vector[i] == 1:\n",
        "            num_product = num_product * probability(training_set, 1, 1, i)\n",
        "            denom_product_1 = denom_product_1 * probability(training_set, 1, 1, i)\n",
        "            denom_product_2 = denom_product_2 * probability(training_set, 1, 0, i)\n",
        "\n",
        "        elif email_feature_vector[i] == 0:\n",
        "            num_product = num_product * probability(training_set, 0, 1, i)\n",
        "            denom_product_1 = denom_product_1 * probability(training_set, 0, 1, i)\n",
        "            denom_product_2 = denom_product_2 * probability(training_set, 0, 0, i)\n",
        "\n",
        "    percentage = num_product / (denom_product_1 + denom_product_2)\n",
        "\n",
        "    print(percentage)\n",
        "    return percentage\n",
        "\n",
        "\n",
        "email=\"the sun is shining. buy drugs now\"\n",
        "spam_percentage(dictionary, training_set, email)\n"
      ],
      "execution_count": 90,
      "outputs": [
        {
          "output_type": "stream",
          "text": [
            "phi(i=33|y=1) = 0.1111111111111111\n",
            "phi(i=33|y=1) = 0.1111111111111111\n",
            "0.1111111111111111\n",
            "phi(i=33|y=1) = 0.1111111111111111\n",
            "0.8888888888888888\n",
            "phi(y=1) = 0.5\n",
            "phi(y=1) = 0.5\n",
            "phi(y=1) = 0.5\n",
            "phi(i=0|y=1) = 0.3333333333333333\n",
            "phi(i=0|y=1) = 0.3333333333333333\n",
            "phi(i=0|y=0) = 0.4444444444444444\n",
            "phi(i=1|y=1) = 0.2222222222222222\n",
            "phi(i=1|y=1) = 0.2222222222222222\n",
            "phi(i=1|y=0) = 0.4444444444444444\n",
            "phi(i=2|y=1) = 0.4444444444444444\n",
            "phi(i=2|y=1) = 0.4444444444444444\n",
            "phi(i=2|y=0) = 0.5555555555555556\n",
            "phi(i=3|y=1) = 0.2222222222222222\n",
            "phi(i=3|y=1) = 0.2222222222222222\n",
            "phi(i=3|y=0) = 0.2222222222222222\n",
            "phi(i=4|y=1) = 0.2222222222222222\n",
            "phi(i=4|y=1) = 0.2222222222222222\n",
            "phi(i=4|y=0) = 0.2222222222222222\n",
            "phi(i=5|y=1) = 0.2222222222222222\n",
            "phi(i=5|y=1) = 0.2222222222222222\n",
            "phi(i=5|y=0) = 0.3333333333333333\n",
            "phi(i=6|y=1) = 0.2222222222222222\n",
            "phi(i=6|y=1) = 0.2222222222222222\n",
            "phi(i=6|y=0) = 0.2222222222222222\n",
            "phi(i=7|y=1) = 0.3333333333333333\n",
            "phi(i=7|y=1) = 0.3333333333333333\n",
            "phi(i=7|y=0) = 0.1111111111111111\n",
            "phi(i=8|y=1) = 0.4444444444444444\n",
            "phi(i=8|y=1) = 0.4444444444444444\n",
            "phi(i=8|y=0) = 0.1111111111111111\n",
            "phi(i=9|y=1) = 0.2222222222222222\n",
            "phi(i=9|y=1) = 0.2222222222222222\n",
            "phi(i=9|y=0) = 0.3333333333333333\n",
            "phi(i=10|y=1) = 0.1111111111111111\n",
            "phi(i=10|y=1) = 0.1111111111111111\n",
            "phi(i=10|y=0) = 0.2222222222222222\n",
            "phi(i=11|y=1) = 0.2222222222222222\n",
            "phi(i=11|y=1) = 0.2222222222222222\n",
            "phi(i=11|y=0) = 0.3333333333333333\n",
            "phi(i=12|y=1) = 0.1111111111111111\n",
            "phi(i=12|y=1) = 0.1111111111111111\n",
            "phi(i=12|y=0) = 0.2222222222222222\n",
            "phi(i=13|y=1) = 0.2222222222222222\n",
            "phi(i=13|y=1) = 0.2222222222222222\n",
            "phi(i=13|y=0) = 0.2222222222222222\n",
            "phi(i=14|y=1) = 0.2222222222222222\n",
            "phi(i=14|y=1) = 0.2222222222222222\n",
            "phi(i=14|y=0) = 0.2222222222222222\n",
            "phi(i=15|y=1) = 0.2222222222222222\n",
            "phi(i=15|y=1) = 0.2222222222222222\n",
            "phi(i=15|y=0) = 0.1111111111111111\n",
            "phi(i=16|y=1) = 0.2222222222222222\n",
            "phi(i=16|y=1) = 0.2222222222222222\n",
            "phi(i=16|y=0) = 0.1111111111111111\n",
            "phi(i=17|y=1) = 0.1111111111111111\n",
            "phi(i=17|y=1) = 0.1111111111111111\n",
            "phi(i=17|y=0) = 0.2222222222222222\n",
            "phi(i=18|y=1) = 0.1111111111111111\n",
            "phi(i=18|y=1) = 0.1111111111111111\n",
            "phi(i=18|y=0) = 0.2222222222222222\n",
            "phi(i=19|y=1) = 0.2222222222222222\n",
            "phi(i=19|y=1) = 0.2222222222222222\n",
            "phi(i=19|y=0) = 0.5555555555555556\n",
            "phi(i=20|y=1) = 0.1111111111111111\n",
            "phi(i=20|y=1) = 0.1111111111111111\n",
            "phi(i=20|y=0) = 0.2222222222222222\n",
            "phi(i=21|y=1) = 0.2222222222222222\n",
            "phi(i=21|y=1) = 0.2222222222222222\n",
            "phi(i=21|y=0) = 0.2222222222222222\n",
            "phi(i=22|y=1) = 0.1111111111111111\n",
            "phi(i=22|y=1) = 0.1111111111111111\n",
            "phi(i=22|y=0) = 0.3333333333333333\n",
            "phi(i=23|y=1) = 0.2222222222222222\n",
            "phi(i=23|y=1) = 0.2222222222222222\n",
            "phi(i=23|y=0) = 0.3333333333333333\n",
            "phi(i=24|y=1) = 0.2222222222222222\n",
            "phi(i=24|y=1) = 0.2222222222222222\n",
            "phi(i=24|y=0) = 0.1111111111111111\n",
            "phi(i=25|y=1) = 0.2222222222222222\n",
            "phi(i=25|y=1) = 0.2222222222222222\n",
            "phi(i=25|y=0) = 0.1111111111111111\n",
            "phi(i=26|y=1) = 0.2222222222222222\n",
            "phi(i=26|y=1) = 0.2222222222222222\n",
            "phi(i=26|y=0) = 0.1111111111111111\n",
            "phi(i=27|y=1) = 0.1111111111111111\n",
            "phi(i=27|y=1) = 0.1111111111111111\n",
            "phi(i=27|y=0) = 0.2222222222222222\n",
            "phi(i=28|y=1) = 0.1111111111111111\n",
            "phi(i=28|y=1) = 0.1111111111111111\n",
            "phi(i=28|y=0) = 0.2222222222222222\n",
            "phi(i=29|y=1) = 0.1111111111111111\n",
            "phi(i=29|y=1) = 0.1111111111111111\n",
            "phi(i=29|y=0) = 0.2222222222222222\n",
            "phi(i=30|y=1) = 0.2222222222222222\n",
            "phi(i=30|y=1) = 0.2222222222222222\n",
            "phi(i=30|y=0) = 0.2222222222222222\n",
            "phi(i=31|y=1) = 0.1111111111111111\n",
            "phi(i=31|y=1) = 0.1111111111111111\n",
            "phi(i=31|y=0) = 0.2222222222222222\n",
            "phi(i=32|y=1) = 0.1111111111111111\n",
            "phi(i=32|y=1) = 0.1111111111111111\n",
            "phi(i=32|y=0) = 0.2222222222222222\n",
            "phi(i=33|y=1) = 0.1111111111111111\n",
            "phi(i=33|y=1) = 0.1111111111111111\n",
            "phi(i=33|y=0) = 0.2222222222222222\n",
            "phi(i=34|y=1) = 0.2222222222222222\n",
            "phi(i=34|y=1) = 0.2222222222222222\n",
            "phi(i=34|y=0) = 0.2222222222222222\n",
            "phi(i=35|y=1) = 0.2222222222222222\n",
            "phi(i=35|y=1) = 0.2222222222222222\n",
            "phi(i=35|y=0) = 0.1111111111111111\n",
            "phi(i=36|y=1) = 0.2222222222222222\n",
            "phi(i=36|y=1) = 0.2222222222222222\n",
            "phi(i=36|y=0) = 0.2222222222222222\n",
            "phi(i=37|y=1) = 0.1111111111111111\n",
            "phi(i=37|y=1) = 0.1111111111111111\n",
            "phi(i=37|y=0) = 0.2222222222222222\n",
            "phi(i=38|y=1) = 0.2222222222222222\n",
            "phi(i=38|y=1) = 0.2222222222222222\n",
            "phi(i=38|y=0) = 0.1111111111111111\n",
            "0.9299429164504411\n"
          ],
          "name": "stdout"
        },
        {
          "output_type": "execute_result",
          "data": {
            "text/plain": [
              "0.9299429164504411"
            ]
          },
          "metadata": {
            "tags": []
          },
          "execution_count": 90
        }
      ]
    },
    {
      "cell_type": "markdown",
      "metadata": {
        "id": "d2ABCIxrT11Z"
      },
      "source": [
        "Test your spam filter with the following email.\n"
      ]
    },
    {
      "cell_type": "code",
      "metadata": {
        "id": "Zo_egC7AUYoq"
      },
      "source": [
        "email=\"the sun is shining. buy drugs now\"\n",
        "print(SpamPercentage(email))"
      ],
      "execution_count": null,
      "outputs": []
    },
    {
      "cell_type": "markdown",
      "metadata": {
        "id": "82y_1mNLP6Lu"
      },
      "source": [
        "\n",
        "# **Exercise 3**\n",
        "Extend your spamfilter by creating a dynamical dictionary. Instead of starting with a fixed dictionary, you should now create a dictionary out of a list of emails. \n",
        "\n",
        "Write a function `create_dictionary(emails)` which returns a dictionary created from a list of emails (Give as an array of arrays `[text, spam\\nospam]`). Make sure that you do not include words more than once into the dictionary.\n",
        "To implement this function you should look up the function `split()` for a string in Python. To take care of the symbols \".\" and \",\" you can use the `replace()` function of a string."
      ]
    },
    {
      "cell_type": "code",
      "metadata": {
        "id": "1rvAqAkHz21D"
      },
      "source": [
        "def create_dictionary(emails):\n",
        "\n",
        "  return NotImplementedError"
      ],
      "execution_count": null,
      "outputs": []
    }
  ]
}